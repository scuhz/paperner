{
 "cells": [
  {
   "cell_type": "code",
   "execution_count": null,
   "metadata": {},
   "outputs": [],
   "source": [
    "import pandas as pd\n",
    "df = pd.read_excel(\"dde_paper_458299_0.xlsx\")\n",
    "df = df[[\"abs_score\",\"title_score\",\"qa_score\",\"word_len\",\"letter_len\",\"complex_len\",\"label\"]]\n",
    "x_train = df[[\"abs_score\",\"title_score\",\"qa_score\",\"word_len\",\"letter_len\",\"complex_len\"]].values\n",
    "y_train = df[\"label\"].values\n",
    "df = pd.read_excel(\"dde_paper_360908_0.xlsx\")\n",
    "df = df[[\"abs_score\",\"title_score\",\"qa_score\",\"word_len\",\"letter_len\",\"complex_len\",\"label\"]]\n",
    "x_valid = df[[\"abs_score\",\"title_score\",\"qa_score\",\"word_len\",\"letter_len\",\"complex_len\"]].values\n",
    "y_valid = df[\"label\"].values\n",
    "df = pd.read_excel(\"dde_paper_862158_0.xlsx\")\n",
    "df = df[[\"abs_score\",\"title_score\",\"qa_score\",\"word_len\",\"letter_len\",\"complex_len\",\"label\"]]\n",
    "x_test = df[[\"abs_score\",\"title_score\",\"qa_score\",\"word_len\",\"letter_len\",\"complex_len\"]].values\n",
    "y_test = df[\"label\"].values\n",
    "x_test,y_test\n",
    "#q_train = np.array([11,6,2,9,11])\n",
    "#q_valid = np.array([7,5,11,8])\n",
    "#q_test = np.array([5,4,10,4])"
   ]
  },
  {
   "cell_type": "code",
   "execution_count": 144,
   "metadata": {},
   "outputs": [],
   "source": [
    "x_train, y_train = load_svmlight_file(\"mq2008.train\")\n",
    "x_valid, y_valid = load_svmlight_file(\"mq2008.vali\")\n",
    "x_test, y_test = load_svmlight_file(\"mq2008.test\")\n",
    "q_train = np.loadtxt('mq2008.train.group')\n",
    "q_valid = np.loadtxt('mq2008.vali.group')\n",
    "q_test = np.loadtxt('mq2008.test.group')\n",
    "x_train = np.array(x_train.todense())\n",
    "x_valid = np.array(x_valid.todense())\n",
    "x_test = np.array(x_test.todense())"
   ]
  },
  {
   "cell_type": "code",
   "execution_count": 146,
   "metadata": {},
   "outputs": [
    {
     "data": {
      "text/plain": [
       "((2874,),\n",
       " array([  8.,  61.,   7.,   8.,   8.,   7.,   7.,  16.,  15.,   8.,  16.,\n",
       "         16.,  32.,  16.,  16.,   7.,  16.,  15.,   8.,  14.,  16.,  15.,\n",
       "          8.,   8.,  16.,   7.,  59.,  61.,  56.,  60.,   8.,   8.,  28.,\n",
       "        117.,  16.,  15.,   8.,   8.,  16.,  15.,   8.,   8.,   8.,   8.,\n",
       "          7.,  16.,   8.,   8.,  16.,   7.,   8.,  16.,   8.,   8.,  32.,\n",
       "         16.,  31.,  15.,   6.,  31.,  15.,  16.,  16.,  31.,  16.,   8.,\n",
       "         56.,  15.,   8.,  16.,   8.,  31.,  28.,  32.,   8.,   8.,   8.,\n",
       "        115.,  57.,  12.,   8.,   8.,   8.,  15.,   7.,   8.,  15.,   8.,\n",
       "          8.,   8.,  16.,   8.,  31., 119.,   8.,  15.,   7.,   8.,   8.,\n",
       "         16.,   8.,  15.,   8.,  16.,   8.,   8.,  15.,   8.,  16.,   8.,\n",
       "          8.,   8.,  16.,  16.,  15.,   7.,  15.,   8.,  15.,   8.,   8.,\n",
       "          8.,   8.,  29.,   7.,   8.,   8.,   8.,   8.,  61.,   8.,   7.,\n",
       "         32.,   8., 114.,  15.,  16.,   8.,  16.,  61.,   8.,  15.,  15.,\n",
       "          8.,   8.,   8.,  16.,  31.,  16.,  32.,  16.,   8.,  32.,  15.,\n",
       "         31.,   7.]))"
      ]
     },
     "execution_count": 146,
     "metadata": {},
     "output_type": "execute_result"
    }
   ],
   "source": [
    "y_test.shape,q_test"
   ]
  },
  {
   "cell_type": "code",
   "execution_count": 151,
   "metadata": {},
   "outputs": [
    {
     "name": "stdout",
     "output_type": "stream",
     "text": [
      "[1]\tvalid_0's ndcg@3: 0.651005\tvalid_0's ndcg@5: 0.700533\n",
      "Training until validation scores don't improve for 50 rounds\n",
      "[2]\tvalid_0's ndcg@3: 0.678541\tvalid_0's ndcg@5: 0.726451\n",
      "[3]\tvalid_0's ndcg@3: 0.681036\tvalid_0's ndcg@5: 0.729952\n",
      "[4]\tvalid_0's ndcg@3: 0.679987\tvalid_0's ndcg@5: 0.723925\n",
      "[5]\tvalid_0's ndcg@3: 0.673242\tvalid_0's ndcg@5: 0.714087\n",
      "[6]\tvalid_0's ndcg@3: 0.680655\tvalid_0's ndcg@5: 0.722811\n",
      "[7]\tvalid_0's ndcg@3: 0.691127\tvalid_0's ndcg@5: 0.737675\n",
      "[8]\tvalid_0's ndcg@3: 0.69211\tvalid_0's ndcg@5: 0.735969\n",
      "[9]\tvalid_0's ndcg@3: 0.687288\tvalid_0's ndcg@5: 0.73235\n",
      "[10]\tvalid_0's ndcg@3: 0.678048\tvalid_0's ndcg@5: 0.734554\n",
      "[11]\tvalid_0's ndcg@3: 0.681903\tvalid_0's ndcg@5: 0.73789\n",
      "[12]\tvalid_0's ndcg@3: 0.679367\tvalid_0's ndcg@5: 0.738485\n",
      "[13]\tvalid_0's ndcg@3: 0.68068\tvalid_0's ndcg@5: 0.728873\n",
      "[14]\tvalid_0's ndcg@3: 0.680249\tvalid_0's ndcg@5: 0.728477\n",
      "[15]\tvalid_0's ndcg@3: 0.671787\tvalid_0's ndcg@5: 0.72904\n",
      "[16]\tvalid_0's ndcg@3: 0.672371\tvalid_0's ndcg@5: 0.724579\n",
      "[17]\tvalid_0's ndcg@3: 0.680057\tvalid_0's ndcg@5: 0.723552\n",
      "[18]\tvalid_0's ndcg@3: 0.669124\tvalid_0's ndcg@5: 0.715284\n",
      "[19]\tvalid_0's ndcg@3: 0.674796\tvalid_0's ndcg@5: 0.723083\n",
      "[20]\tvalid_0's ndcg@3: 0.672788\tvalid_0's ndcg@5: 0.722754\n",
      "[21]\tvalid_0's ndcg@3: 0.670635\tvalid_0's ndcg@5: 0.722648\n",
      "[22]\tvalid_0's ndcg@3: 0.676917\tvalid_0's ndcg@5: 0.721981\n",
      "[23]\tvalid_0's ndcg@3: 0.67533\tvalid_0's ndcg@5: 0.715715\n",
      "[24]\tvalid_0's ndcg@3: 0.67208\tvalid_0's ndcg@5: 0.715347\n",
      "[25]\tvalid_0's ndcg@3: 0.673054\tvalid_0's ndcg@5: 0.722095\n",
      "[26]\tvalid_0's ndcg@3: 0.676595\tvalid_0's ndcg@5: 0.724571\n",
      "[27]\tvalid_0's ndcg@3: 0.677194\tvalid_0's ndcg@5: 0.724366\n",
      "[28]\tvalid_0's ndcg@3: 0.680477\tvalid_0's ndcg@5: 0.72571\n",
      "[29]\tvalid_0's ndcg@3: 0.679071\tvalid_0's ndcg@5: 0.730972\n",
      "[30]\tvalid_0's ndcg@3: 0.67534\tvalid_0's ndcg@5: 0.727174\n",
      "[31]\tvalid_0's ndcg@3: 0.673075\tvalid_0's ndcg@5: 0.726145\n",
      "[32]\tvalid_0's ndcg@3: 0.680401\tvalid_0's ndcg@5: 0.730525\n",
      "[33]\tvalid_0's ndcg@3: 0.674954\tvalid_0's ndcg@5: 0.72442\n",
      "[34]\tvalid_0's ndcg@3: 0.673803\tvalid_0's ndcg@5: 0.723417\n",
      "[35]\tvalid_0's ndcg@3: 0.675303\tvalid_0's ndcg@5: 0.721675\n",
      "[36]\tvalid_0's ndcg@3: 0.676465\tvalid_0's ndcg@5: 0.721687\n",
      "[37]\tvalid_0's ndcg@3: 0.684669\tvalid_0's ndcg@5: 0.723663\n",
      "[38]\tvalid_0's ndcg@3: 0.685772\tvalid_0's ndcg@5: 0.720812\n",
      "[39]\tvalid_0's ndcg@3: 0.687162\tvalid_0's ndcg@5: 0.721903\n",
      "[40]\tvalid_0's ndcg@3: 0.6869\tvalid_0's ndcg@5: 0.719242\n",
      "[41]\tvalid_0's ndcg@3: 0.685478\tvalid_0's ndcg@5: 0.720071\n",
      "[42]\tvalid_0's ndcg@3: 0.687096\tvalid_0's ndcg@5: 0.723264\n",
      "[43]\tvalid_0's ndcg@3: 0.688111\tvalid_0's ndcg@5: 0.725009\n",
      "[44]\tvalid_0's ndcg@3: 0.685402\tvalid_0's ndcg@5: 0.725333\n",
      "[45]\tvalid_0's ndcg@3: 0.682384\tvalid_0's ndcg@5: 0.726169\n",
      "[46]\tvalid_0's ndcg@3: 0.682576\tvalid_0's ndcg@5: 0.726989\n",
      "[47]\tvalid_0's ndcg@3: 0.68204\tvalid_0's ndcg@5: 0.724935\n",
      "[48]\tvalid_0's ndcg@3: 0.679316\tvalid_0's ndcg@5: 0.724747\n",
      "[49]\tvalid_0's ndcg@3: 0.684479\tvalid_0's ndcg@5: 0.721201\n",
      "[50]\tvalid_0's ndcg@3: 0.68291\tvalid_0's ndcg@5: 0.720488\n",
      "[51]\tvalid_0's ndcg@3: 0.687443\tvalid_0's ndcg@5: 0.72426\n",
      "[52]\tvalid_0's ndcg@3: 0.685866\tvalid_0's ndcg@5: 0.725317\n",
      "[53]\tvalid_0's ndcg@3: 0.685866\tvalid_0's ndcg@5: 0.727116\n",
      "[54]\tvalid_0's ndcg@3: 0.685866\tvalid_0's ndcg@5: 0.72836\n",
      "[55]\tvalid_0's ndcg@3: 0.685107\tvalid_0's ndcg@5: 0.730126\n",
      "[56]\tvalid_0's ndcg@3: 0.680704\tvalid_0's ndcg@5: 0.726384\n",
      "[57]\tvalid_0's ndcg@3: 0.678448\tvalid_0's ndcg@5: 0.723453\n",
      "[58]\tvalid_0's ndcg@3: 0.679885\tvalid_0's ndcg@5: 0.723704\n",
      "Early stopping, best iteration is:\n",
      "[8]\tvalid_0's ndcg@3: 0.69211\tvalid_0's ndcg@5: 0.735969\n",
      "[ 0.51005627 -0.91876769  0.1384206  ... -0.02197295 -0.06223331\n",
      " -0.7386646 ]\n"
     ]
    }
   ],
   "source": [
    "import lightgbm as lgb\n",
    "from sklearn.model_selection import train_test_split\n",
    "import numpy as np\n",
    "gbm = lgb.LGBMRanker()\n",
    "#X_train, X_test, y_train, y_test = train_test_split(X, y, test_size=0.2, random_state=1)\n",
    "#X_train, X_val, y_train, y_val = train_test_split(X_train, y_train, test_size=0.2, random_state=1)\n",
    "\n",
    "gbm.fit(x_train, y_train, group=q_train,\n",
    "        eval_set=[(x_valid, y_valid)], eval_group=[q_valid],\n",
    "        eval_at=[3,5], early_stopping_rounds=50)\n",
    "        #callbacks=[lgb.reset_parameter(learning_rate=lambda x: 0.95 ** x * 0.1)])\n",
    "y_pre = gbm.predict(x_test)\n",
    "print(y_pre)"
   ]
  },
  {
   "cell_type": "code",
   "execution_count": 142,
   "metadata": {},
   "outputs": [
    {
     "name": "stdout",
     "output_type": "stream",
     "text": [
      "[ 1.14554309 -0.04759986 -1.38652368  0.1679589  -0.45409336 -0.17546972\n",
      " -1.09054153]\n"
     ]
    }
   ],
   "source": [
    "y_pre = gbm.predict(x_test[-7:])\n",
    "print(y_pre)"
   ]
  },
  {
   "cell_type": "markdown",
   "metadata": {},
   "source": [
    "# #######"
   ]
  }
 ],
 "metadata": {
  "kernelspec": {
   "display_name": "Python 3",
   "language": "python",
   "name": "python3"
  },
  "language_info": {
   "codemirror_mode": {
    "name": "ipython",
    "version": 3
   },
   "file_extension": ".py",
   "mimetype": "text/x-python",
   "name": "python",
   "nbconvert_exporter": "python",
   "pygments_lexer": "ipython3",
   "version": "3.7.9"
  }
 },
 "nbformat": 4,
 "nbformat_minor": 2
}
